{
  "nbformat": 4,
  "nbformat_minor": 0,
  "metadata": {
    "colab": {
      "provenance": []
    },
    "kernelspec": {
      "name": "python3",
      "display_name": "Python 3"
    },
    "language_info": {
      "name": "python"
    },
    "accelerator": "GPU",
    "gpuClass": "standard"
  },
  "cells": [
    {
      "cell_type": "code",
      "execution_count": null,
      "metadata": {
        "id": "TPLiaEB1FiPw"
      },
      "outputs": [],
      "source": [
        "import numpy as np\n",
        "import matplotlib.pyplot as plt\n",
        "import tensorflow as tf\n",
        "from tensorflow.keras.layers import Dense , Flatten , Conv2D , MaxPooling2D\n",
        "from tensorflow.keras.utils import to_categorical"
      ]
    },
    {
      "cell_type": "code",
      "source": [
        "(x_train , y_train) , (x_test , y_test) = tf.keras.datasets.mnist.load_data() # load mnist dataset"
      ],
      "metadata": {
        "id": "FDa8PLolGuxU"
      },
      "execution_count": null,
      "outputs": []
    },
    {
      "cell_type": "markdown",
      "source": [
        "Plotting samples from train dataset:"
      ],
      "metadata": {
        "id": "ls3vvdcbHElf"
      }
    },
    {
      "cell_type": "code",
      "source": [
        "print(\"Train Datset Shape: {} , Test Dataset Shape: {}\\n\".format(x_train.shape , x_test.shape))\n",
        "\n",
        "#plotting first 9 images and label\n",
        "print(\"First 9 Samples:\")\n",
        "plt.figure(figsize = (7,7))\n",
        "for i in range(9):\n",
        "  plt.subplot(3,3,i+1)\n",
        "  plt.imshow(x_train[i] , cmap = 'gray') # show the image\n",
        "  plt.title(\"label = \" + str(y_train[i])) # label of the image as image title\n",
        "  plt.axis('off')\n",
        "\n",
        "plt.show()"
      ],
      "metadata": {
        "colab": {
          "base_uri": "https://localhost:8080/",
          "height": 650
        },
        "id": "PaRjTmefGy4K",
        "outputId": "0580d69a-7dc8-4b40-cfd3-c309e49f0989"
      },
      "execution_count": null,
      "outputs": [
        {
          "output_type": "stream",
          "name": "stdout",
          "text": [
            "Train Datset Shape: (60000, 28, 28) , Test Dataset Shape: (10000, 28, 28)\n",
            "\n",
            "First 9 Samples:\n"
          ]
        },
        {
          "output_type": "display_data",
          "data": {
            "text/plain": [
              "<Figure size 700x700 with 9 Axes>"
            ],
            "image/png": "[encoded data removed]"
          },
          "metadata": {}
        }
      ]
    },
    {
      "cell_type": "markdown",
      "source": [
        "Preprocessing Dataset:"
      ],
      "metadata": {
        "id": "1MQE_D25HBIq"
      }
    },
    {
      "cell_type": "code",
      "source": [
        "x_train = np.reshape(x_train , (x_train.shape[0] , x_train.shape[1] , x_train.shape[2])) #reshape in 4D x_train\n",
        "x_test = np.reshape(x_test , (x_test.shape[0] , x_test.shape[1] , x_test.shape[2])) # reshape in 4D x_test\n",
        "\n",
        "x_train = x_train.astype('float32') / 255 # normalizing in range 0 to 1\n",
        "x_test = x_test.astype('float32') / 255 # normalizing in range 0 to 1\n",
        "\n",
        "y_train = to_categorical(y_train , 10) # one hot encoding of y_train\n",
        "y_test = to_categorical(y_test , 10) # one hot encoding of y_test\n",
        "\n",
        "x_train = np.stack((x_train,)*3, axis=-1)\n",
        "x_test = np.stack((x_test,)*3, axis=-1)\n",
        "\n",
        "print(\"Train data shape: \",x_train.shape ,\",Test data shape:\", x_test.shape)"
      ],
      "metadata": {
        "colab": {
          "base_uri": "https://localhost:8080/"
        },
        "id": "ioAOVyjkG_hs",
        "outputId": "3a620b73-5861-4544-c44e-205fecd21d64"
      },
      "execution_count": null,
      "outputs": [
        {
          "output_type": "stream",
          "name": "stdout",
          "text": [
            "Train data shape:  (60000, 28, 28, 3) ,Test data shape: (10000, 28, 28, 3)\n"
          ]
        }
      ]
    },
    {
      "cell_type": "code",
      "source": [
        "#import ResNet50 model from keras\n",
        "from tensorflow.keras.applications.resnet50 import ResNet50"
      ],
      "metadata": {
        "id": "Lb8-jB2UH8Xt"
      },
      "execution_count": null,
      "outputs": []
    },
    {
      "cell_type": "code",
      "source": [
        "model = tf.keras.Sequential() # define sequential model\n",
        "\n",
        "model.add(ResNet50(include_top=False,pooling='avg',weights='imagenet')) # adding resnet model\n",
        "model.add(Dense(units = 512 , activation = \"relu\")) # Fully connected layer of 512 units\n",
        "model.add(Dense(units = 10 , activation = \"softmax\")) # output layer with 10 units as number of class = 10\n",
        "\n",
        "model.layers[0].trainable = False\n",
        "\n",
        "model.summary()"
      ],
      "metadata": {
        "colab": {
          "base_uri": "https://localhost:8080/"
        },
        "id": "gCiN7HulHM9E",
        "outputId": "ef89f8b4-19cf-42c6-9c41-78a62e69e68e"
      },
      "execution_count": null,
      "outputs": [
        {
          "output_type": "stream",
          "name": "stdout",
          "text": [
            "Downloading data from https://storage.googleapis.com/tensorflow/keras-applications/resnet/resnet50_weights_tf_dim_ordering_tf_kernels_notop.h5\n",
            "94765736/94765736 [==============================] - 1s 0us/step\n",
            "Model: \"sequential\"\n",
            "_________________________________________________________________\n",
            " Layer (type)                Output Shape              Param #   \n",
            "=================================================================\n",
            " resnet50 (Functional)       (None, 2048)              23587712  \n",
            "                                                                 \n",
            " dense (Dense)               (None, 512)               1049088   \n",
            "                                                                 \n",
            " dense_1 (Dense)             (None, 10)                5130      \n",
            "                                                                 \n",
            "=================================================================\n",
            "Total params: 24,641,930\n",
            "Trainable params: 1,054,218\n",
            "Non-trainable params: 23,587,712\n",
            "_________________________________________________________________\n"
          ]
        }
      ]
    },
    {
      "cell_type": "code",
      "source": [
        "model.compile(optimizer='adam' , loss = 'categorical_crossentropy' , metrics = ['acc'])"
      ],
      "metadata": {
        "id": "N6WxDaoTNCTc"
      },
      "execution_count": null,
      "outputs": []
    },
    {
      "cell_type": "code",
      "source": [
        "model.fit(x_train,y_train,batch_size = 32 , epochs = 10)"
      ],
      "metadata": {
        "colab": {
          "base_uri": "https://localhost:8080/"
        },
        "id": "7q3HRNg8N71B",
        "outputId": "698e34bf-350b-4872-cd4b-03a294fe30f1"
      },
      "execution_count": null,
      "outputs": [
        {
          "output_type": "stream",
          "name": "stdout",
          "text": [
            "Epoch 1/10\n",
            "1875/1875 [==============================] - 33s 10ms/step - loss: 0.5321 - acc: 0.8312\n",
            "Epoch 2/10\n",
            "1875/1875 [==============================] - 19s 10ms/step - loss: 0.3130 - acc: 0.8993\n",
            "Epoch 3/10\n",
            "1875/1875 [==============================] - 19s 10ms/step - loss: 0.2680 - acc: 0.9133\n",
            "Epoch 4/10\n",
            "1875/1875 [==============================] - 20s 11ms/step - loss: 0.2471 - acc: 0.9198\n",
            "Epoch 5/10\n",
            "1875/1875 [==============================] - 22s 12ms/step - loss: 0.2229 - acc: 0.9266\n",
            "Epoch 6/10\n",
            "1875/1875 [==============================] - 19s 10ms/step - loss: 0.2080 - acc: 0.9328\n",
            "Epoch 7/10\n",
            "1875/1875 [==============================] - 19s 10ms/step - loss: 0.1968 - acc: 0.9362\n",
            "Epoch 8/10\n",
            "1875/1875 [==============================] - 19s 10ms/step - loss: 0.1867 - acc: 0.9394\n",
            "Epoch 9/10\n",
            "1875/1875 [==============================] - 19s 10ms/step - loss: 0.1779 - acc: 0.9415\n",
            "Epoch 10/10\n",
            "1875/1875 [==============================] - 19s 10ms/step - loss: 0.1724 - acc: 0.9437\n"
          ]
        },
        {
          "output_type": "execute_result",
          "data": {
            "text/plain": [
              "<keras.callbacks.History at 0x7f92d002cb20>"
            ]
          },
          "metadata": {},
          "execution_count": 11
        }
      ]
    },
    {
      "cell_type": "code",
      "source": [
        "history = model.evaluate(x_test , y_test , verbose = 0)\n",
        "acc = history[1] * 100\n",
        "\n",
        "print(\"Accuracy: %.2f\" % acc,\"%\")"
      ],
      "metadata": {
        "colab": {
          "base_uri": "https://localhost:8080/"
        },
        "id": "cNPYt8vFTVpy",
        "outputId": "14687e36-0354-43b2-e46f-aa1ce4d4fa6c"
      },
      "execution_count": null,
      "outputs": [
        {
          "output_type": "stream",
          "name": "stdout",
          "text": [
            "Accuracy: 94.62 %\n"
          ]
        }
      ]
    }
  ]
}