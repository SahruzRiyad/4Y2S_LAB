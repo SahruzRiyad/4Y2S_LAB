{
  "nbformat": 4,
  "nbformat_minor": 0,
  "metadata": {
    "colab": {
      "provenance": []
    },
    "kernelspec": {
      "name": "python3",
      "display_name": "Python 3"
    },
    "language_info": {
      "name": "python"
    }
  },
  "cells": [
    {
      "cell_type": "code",
      "execution_count": null,
      "metadata": {
        "id": "q2J2rpdPxODA"
      },
      "outputs": [],
      "source": [
        "import numpy as np\n",
        "import tensorflow as tf\n",
        "from tensorflow.keras.layers import Dense"
      ]
    },
    {
      "cell_type": "code",
      "source": [
        "model = tf.keras.Sequential()\n",
        "model.add(Dense(units=128, input_shape=[1], activation='relu'))\n",
        "model.add(Dense(units=128, activation='relu'))\n",
        "model.add(Dense(units=128, activation='relu'))\n",
        "model.add(Dense(units=1 ))\n",
        "\n",
        "model.compile(optimizer= 'adam', loss='mean_squared_error')"
      ],
      "metadata": {
        "id": "K6mpc2JCy_mZ"
      },
      "execution_count": null,
      "outputs": []
    },
    {
      "cell_type": "code",
      "source": [
        "x = []\n",
        "y = []\n",
        "for i in range(0,2000):\n",
        "  rand = np.random.randint(-10,10)\n",
        "  x.append(rand)\n",
        "  res = 3 * rand * rand * rand + 7 * rand * rand - 12 * rand + 2\n",
        "  y.append(res)\n",
        "\n",
        "x = np.array(x)\n",
        "y = np.array(y)"
      ],
      "metadata": {
        "id": "VztPc927g9Zj"
      },
      "execution_count": null,
      "outputs": []
    },
    {
      "cell_type": "code",
      "source": [
        "from sklearn.model_selection import train_test_split\n",
        "X_train , X_test , y_train , y_test = train_test_split(x,y,test_size=0.1)"
      ],
      "metadata": {
        "id": "CVnhEKxchvKs"
      },
      "execution_count": null,
      "outputs": []
    },
    {
      "cell_type": "code",
      "source": [
        "model.fit(x, y, epochs= 500 , verbose = False)"
      ],
      "metadata": {
        "colab": {
          "base_uri": "https://localhost:8080/"
        },
        "id": "eDi4XZP8hCQO",
        "outputId": "36c35362-d0c5-46cc-b493-a98de1715da2"
      },
      "execution_count": null,
      "outputs": [
        {
          "output_type": "execute_result",
          "data": {
            "text/plain": [
              "<keras.callbacks.History at 0x7f295db9ddc0>"
            ]
          },
          "metadata": {},
          "execution_count": 67
        }
      ]
    },
    {
      "cell_type": "code",
      "source": [
        "test = [-6,-5,-4,-3,-2,-1,0,1,2,3,4,5,6]\n",
        "predicted = []\n",
        "\n",
        "for i in test:\n",
        "    p = model.predict([i]).flatten()\n",
        "    p = float(p)\n",
        "    predicted.append(p)"
      ],
      "metadata": {
        "id": "4AtFzdGj6AK9"
      },
      "execution_count": null,
      "outputs": []
    },
    {
      "cell_type": "code",
      "source": [
        "test = [-6,-5,-4,-3,-2,-1,0,1,2,3,4,5,6]\n",
        "\n",
        "for x in range(len(test)):\n",
        "    i = test[x]\n",
        "    res = 3 * i * i * i + 7 * i * i - 12 * i + 2\n",
        "\n",
        "    print(\"x = \",i,\", expected_y = \",res,\", predicted_y = %.2f\" % predicted[x])"
      ],
      "metadata": {
        "colab": {
          "base_uri": "https://localhost:8080/"
        },
        "id": "8X0S6BGvkrEX",
        "outputId": "b28031eb-f2d8-49a4-ebbf-284d5a0eb6fc"
      },
      "execution_count": null,
      "outputs": [
        {
          "output_type": "stream",
          "name": "stdout",
          "text": [
            "x =  -6 , expected_y =  -322 , predicted_y = -324.01\n",
            "x =  -5 , expected_y =  -138 , predicted_y = -139.68\n",
            "x =  -4 , expected_y =  -30 , predicted_y = -31.83\n",
            "x =  -3 , expected_y =  20 , predicted_y = 19.19\n",
            "x =  -2 , expected_y =  30 , predicted_y = 30.01\n",
            "x =  -1 , expected_y =  18 , predicted_y = 17.94\n",
            "x =  0 , expected_y =  2 , predicted_y = 1.26\n",
            "x =  1 , expected_y =  0 , predicted_y = 1.26\n",
            "x =  2 , expected_y =  30 , predicted_y = 30.08\n",
            "x =  3 , expected_y =  110 , predicted_y = 110.75\n",
            "x =  4 , expected_y =  258 , predicted_y = 259.05\n",
            "x =  5 , expected_y =  492 , predicted_y = 492.09\n",
            "x =  6 , expected_y =  830 , predicted_y = 828.91\n"
          ]
        }
      ]
    }
  ]
}