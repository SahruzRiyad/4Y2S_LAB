{
  "nbformat": 4,
  "nbformat_minor": 0,
  "metadata": {
    "colab": {
      "provenance": []
    },
    "kernelspec": {
      "name": "python3",
      "display_name": "Python 3"
    },
    "language_info": {
      "name": "python"
    },
    "gpuClass": "standard"
  },
  "cells": [
    {
      "cell_type": "code",
      "execution_count": null,
      "metadata": {
        "id": "2HXZtHry-2JO"
      },
      "outputs": [],
      "source": [
        "import tensorflow as tf\n",
        "from tensorflow.keras.layers import Dense , MaxPooling2D , Conv2D , Flatten\n",
        "from tensorflow.keras.utils import to_categorical\n",
        "import numpy as np\n",
        "import matplotlib.pyplot as plt"
      ]
    },
    {
      "cell_type": "code",
      "source": [
        "(x_train , y_train) , (x_test , y_test) = tf.keras.datasets.mnist.load_data() # load mnist dataset"
      ],
      "metadata": {
        "id": "SUaMxeoJNMUb",
        "colab": {
          "base_uri": "https://localhost:8080/"
        },
        "outputId": "4ab18a42-8fb1-426b-ebaa-4eaec3984528"
      },
      "execution_count": null,
      "outputs": [
        {
          "output_type": "stream",
          "name": "stdout",
          "text": [
            "Downloading data from https://storage.googleapis.com/tensorflow/tf-keras-datasets/mnist.npz\n",
            "11490434/11490434 [==============================] - 1s 0us/step\n"
          ]
        }
      ]
    },
    {
      "cell_type": "code",
      "source": [
        "print(\"Train Datset Shape: {} , Test Dataset Shape: {}\\n\".format(x_train.shape , x_test.shape))\n",
        "\n",
        "#plotting first 9 images and label\n",
        "print(\"First 9 Samples:\")\n",
        "plt.figure(figsize = (7,7))\n",
        "for i in range(9):\n",
        "  plt.subplot(3,3,i+1)\n",
        "  plt.imshow(x_train[i] , cmap = 'gray') # show the image\n",
        "  plt.title(\"label = \" + str(y_train[i])) # label of the image as image title\n",
        "  plt.axis('off')\n",
        "\n",
        "plt.show()"
      ],
      "metadata": {
        "colab": {
          "base_uri": "https://localhost:8080/",
          "height": 650
        },
        "id": "STyE78JgNbwh",
        "outputId": "96931c5c-8e47-4a2f-b782-40ad61dfbd92"
      },
      "execution_count": null,
      "outputs": [
        {
          "output_type": "stream",
          "name": "stdout",
          "text": [
            "Train Datset Shape: (60000, 28, 28) , Test Dataset Shape: (10000, 28, 28)\n",
            "\n",
            "First 9 Samples:\n"
          ]
        },
        {
          "output_type": "display_data",
          "data": {
            "text/plain": [
              "<Figure size 700x700 with 9 Axes>"
            ],
            "image/png": "[encoded data removed]"
          },
          "metadata": {}
        }
      ]
    },
    {
      "cell_type": "markdown",
      "source": [
        "Preprocessing Dataset:"
      ],
      "metadata": {
        "id": "2biI_ld0zjR3"
      }
    },
    {
      "cell_type": "code",
      "source": [
        "x_train = np.reshape(x_train , (x_train.shape[0] , x_train.shape[1] , x_train.shape[2] , 1)) #reshape in 4D x_train\n",
        "x_test = np.reshape(x_test , (x_test.shape[0] , x_test.shape[1] , x_test.shape[2] , 1)) # reshape in 4D x_test\n",
        "\n",
        "x_train = x_train.astype('float32') / 255 # normalizing in range 0 to 1\n",
        "x_test = x_test.astype('float32') / 255 # normalizing in range 0 to 1\n",
        "\n",
        "y_train = to_categorical(y_train , 10) # one hot encoding of y_train\n",
        "y_test = to_categorical(y_test , 10) # one hot encoding of y_test"
      ],
      "metadata": {
        "id": "74Y80u8KNl94"
      },
      "execution_count": null,
      "outputs": []
    },
    {
      "cell_type": "markdown",
      "source": [
        "Building model architecture:"
      ],
      "metadata": {
        "id": "XiDZkDmwzdew"
      }
    },
    {
      "cell_type": "code",
      "source": [
        "model = tf.keras.Sequential() # define sequential model\n",
        "\n",
        "model.add(Conv2D(filters=32,kernel_size=(3,3),strides=(1,1),padding='valid',activation=\"relu\",input_shape=(28,28,1))) # convlution layer\n",
        "model.add(MaxPooling2D(pool_size = (2,2))) # Maxpooling for down sampling\n",
        "model.add(Conv2D(filters=64,kernel_size=(3,3),strides=(1,1),padding='valid',activation=\"relu\")) # second Convolution layer\n",
        "model.add(MaxPooling2D(pool_size = (2,2))) # Maxpooling for down sampling\n",
        "model.add(Flatten()) # Flatten layer for 1D transformation\n",
        "model.add(Dense(units = 64 , activation = \"relu\")) # Fully connected layer of 64 units\n",
        "model.add(Dense(units = 10 , activation = \"softmax\")) # output layer with 10 units as number of class = 10"
      ],
      "metadata": {
        "id": "pJCEx2nmOkPC"
      },
      "execution_count": null,
      "outputs": []
    },
    {
      "cell_type": "code",
      "source": [
        "model.summary()"
      ],
      "metadata": {
        "colab": {
          "base_uri": "https://localhost:8080/"
        },
        "id": "XPeZhuCvQdXo",
        "outputId": "27d198a4-c1ed-4531-ddc3-a3407da3d1a6"
      },
      "execution_count": null,
      "outputs": [
        {
          "output_type": "stream",
          "name": "stdout",
          "text": [
            "Model: \"sequential\"\n",
            "_________________________________________________________________\n",
            " Layer (type)                Output Shape              Param #   \n",
            "=================================================================\n",
            " conv2d (Conv2D)             (None, 26, 26, 32)        320       \n",
            "                                                                 \n",
            " max_pooling2d (MaxPooling2D  (None, 13, 13, 32)       0         \n",
            " )                                                               \n",
            "                                                                 \n",
            " conv2d_1 (Conv2D)           (None, 11, 11, 64)        18496     \n",
            "                                                                 \n",
            " max_pooling2d_1 (MaxPooling  (None, 5, 5, 64)         0         \n",
            " 2D)                                                             \n",
            "                                                                 \n",
            " flatten (Flatten)           (None, 1600)              0         \n",
            "                                                                 \n",
            " dense (Dense)               (None, 64)                102464    \n",
            "                                                                 \n",
            " dense_1 (Dense)             (None, 10)                650       \n",
            "                                                                 \n",
            "=================================================================\n",
            "Total params: 121,930\n",
            "Trainable params: 121,930\n",
            "Non-trainable params: 0\n",
            "_________________________________________________________________\n"
          ]
        }
      ]
    },
    {
      "cell_type": "code",
      "source": [
        "# Compile the model\n",
        "model.compile(optimizer=\"adam\",loss = \"categorical_crossentropy\" , metrics = [\"acc\"])"
      ],
      "metadata": {
        "id": "iUGGG-EiQmrn"
      },
      "execution_count": null,
      "outputs": []
    },
    {
      "cell_type": "code",
      "source": [
        "# Fit the model with train dataset\n",
        "model.fit(x_train,y_train,batch_size = 32 , epochs = 10) # train with 10 epochs"
      ],
      "metadata": {
        "id": "pS2JbSA7QJQV"
      },
      "execution_count": null,
      "outputs": []
    },
    {
      "cell_type": "code",
      "source": [
        "history = model.evaluate(x_test , y_test , verbose = 0)\n",
        "acc = history[1] * 100\n",
        "\n",
        "print(\"Accuracy: %.2f\" % acc,\"%\")"
      ],
      "metadata": {
        "colab": {
          "base_uri": "https://localhost:8080/"
        },
        "id": "_LeHUFSvRaiu",
        "outputId": "2f6f695c-2193-402c-f489-711acf463ba5"
      },
      "execution_count": null,
      "outputs": [
        {
          "output_type": "stream",
          "name": "stdout",
          "text": [
            "Accuracy: 99.02 %\n"
          ]
        }
      ]
    },
    {
      "cell_type": "code",
      "source": [
        "#plotting first 9 images and predicted output\n",
        "\n",
        "test_img = x_test[100:109]\n",
        "test_predictions = model.predict(test_img)\n",
        "\n",
        "print(\"First 9 test images and predicted output:\")\n",
        "plt.figure(figsize = (7,7))\n",
        "for i in range(9):\n",
        "  plt.subplot(3,3,i+1)\n",
        "  plt.imshow(test_img[i] , cmap = 'gray') # show the image\n",
        "  plt.title(str(np.argmax(test_predictions[i]))) # predicted output of the image as image title\n",
        "  plt.axis('off')\n",
        "\n",
        "plt.show()"
      ],
      "metadata": {
        "colab": {
          "base_uri": "https://localhost:8080/",
          "height": 633
        },
        "id": "2wtxUNXMRf8w",
        "outputId": "785f1bb3-08cb-41a0-9d98-29eec174695b"
      },
      "execution_count": null,
      "outputs": [
        {
          "output_type": "stream",
          "name": "stdout",
          "text": [
            "1/1 [==============================] - 0s 83ms/step\n",
            "First 9 test images and predicted output:\n"
          ]
        },
        {
          "output_type": "display_data",
          "data": {
            "text/plain": [
              "<Figure size 700x700 with 9 Axes>"
            ],
            "image/png": "[encoded data removed]"
          },
          "metadata": {}
        }
      ]
    }
  ]
}