{
  "nbformat": 4,
  "nbformat_minor": 0,
  "metadata": {
    "colab": {
      "provenance": []
    },
    "kernelspec": {
      "name": "python3",
      "display_name": "Python 3"
    },
    "language_info": {
      "name": "python"
    },
    "accelerator": "GPU",
    "gpuClass": "standard"
  },
  "cells": [
    {
      "cell_type": "markdown",
      "source": [
        "Importing Necessary Libraries:"
      ],
      "metadata": {
        "id": "54hbLvvFA-sV"
      }
    },
    {
      "cell_type": "code",
      "execution_count": null,
      "metadata": {
        "id": "h3_0Mvcj2dGV"
      },
      "outputs": [],
      "source": [
        "import tensorflow as tf\n",
        "from tensorflow.keras.models import Sequential\n",
        "from tensorflow.keras.layers import Dense , Flatten , Conv2D , MaxPooling2D\n",
        "from tensorflow.keras.utils import to_categorical\n",
        "from tensorflow.keras.preprocessing.image import ImageDataGenerator\n",
        "from tensorflow.keras.preprocessing.image import img_to_array\n",
        "import matplotlib.pyplot as plt\n",
        "import numpy as np"
      ]
    },
    {
      "cell_type": "markdown",
      "source": [
        "Loading MNIST Dataset from tensorflow keras and Storing in train , test splited form.\n",
        "X_train and y_train used for train dataset and its label,\n",
        "X_test and y_test used for test dataset.\n"
      ],
      "metadata": {
        "id": "GFoIHDkQA9yz"
      }
    },
    {
      "cell_type": "code",
      "source": [
        "(x_train, y_train), (x_test, y_test)  = tf.keras.datasets.mnist.load_data() #loading mnist data"
      ],
      "metadata": {
        "id": "5nnVV1t3A6vJ",
        "colab": {
          "base_uri": "https://localhost:8080/"
        },
        "outputId": "099ddcc5-f7f6-4bb7-dfef-6e77860e5454"
      },
      "execution_count": null,
      "outputs": [
        {
          "output_type": "stream",
          "name": "stdout",
          "text": [
            "Downloading data from https://storage.googleapis.com/tensorflow/tf-keras-datasets/mnist.npz\n",
            "11490434/11490434 [==============================] - 0s 0us/step\n"
          ]
        }
      ]
    },
    {
      "cell_type": "markdown",
      "source": [
        "Showing First 9 sample image of train dataset using matplotlib with corresponding label as image title"
      ],
      "metadata": {
        "id": "LcDg5hdjBcGs"
      }
    },
    {
      "cell_type": "code",
      "source": [
        "print(\"Train Datset Shape: {} , Test Dataset Shape: {}\\n\".format(x_train.shape , x_test.shape))\n",
        "\n",
        "#plotting first 9 images and label\n",
        "print(\"First 9 Samples:\")\n",
        "plt.figure(figsize = (7,7))\n",
        "for i in range(9):\n",
        "  plt.subplot(3,3,i+1)\n",
        "  plt.imshow(x_train[i] , cmap = 'gray') # show the image\n",
        "  plt.title(\"label = \" + str(y_train[i])) # label of the image as image title\n",
        "  plt.axis('off')\n",
        "\n",
        "plt.show()"
      ],
      "metadata": {
        "colab": {
          "base_uri": "https://localhost:8080/",
          "height": 479
        },
        "id": "chvPFmF5Bbla",
        "outputId": "fb65b32f-2e99-46c0-b59f-37fda0360931"
      },
      "execution_count": null,
      "outputs": [
        {
          "output_type": "stream",
          "name": "stdout",
          "text": [
            "Train Datset Shape: (60000, 28, 28) , Test Dataset Shape: (10000, 28, 28)\n",
            "\n",
            "First 9 Samples:\n"
          ]
        },
        {
          "output_type": "display_data",
          "data": {
            "text/plain": [
              "<Figure size 504x504 with 9 Axes>"
            ],
            "image/png": "[encoded data removed]"
          },
          "metadata": {
            "needs_background": "light"
          }
        }
      ]
    },
    {
      "cell_type": "markdown",
      "source": [
        "Dataset Resahape using Numpy module"
      ],
      "metadata": {
        "id": "5rRsI1jSVydj"
      }
    },
    {
      "cell_type": "code",
      "source": [
        "# Reshape the input data to 4D tensor (batch_size, height, width, channels)\n",
        "x_train = np.reshape(x_train, (x_train.shape[0], x_train.shape[1], x_train.shape[2], 1))\n",
        "x_test = np.reshape(x_test, (x_test.shape[0], x_test.shape[1], x_test.shape[2], 1))"
      ],
      "metadata": {
        "id": "dKUw2okCVxY0"
      },
      "execution_count": null,
      "outputs": []
    },
    {
      "cell_type": "code",
      "source": [
        "# Convert the input data to float32 and normalize it to the range [0, 1]\n",
        "x_train = x_train.astype('float32') / 255\n",
        "x_test = x_test.astype('float32') / 255\n",
        "\n",
        "# Convert the target output to categorical\n",
        "y_train = to_categorical(y_train, 10)\n",
        "y_test = to_categorical(y_test, 10)\n",
        "\n",
        "print(x_train[0].shape , x_test[0].shape , x_train.shape)"
      ],
      "metadata": {
        "colab": {
          "base_uri": "https://localhost:8080/"
        },
        "id": "ilkVNYXEFlm2",
        "outputId": "82e2410d-5706-4f26-c5ee-85af7d8dc9b5"
      },
      "execution_count": null,
      "outputs": [
        {
          "output_type": "stream",
          "name": "stdout",
          "text": [
            "(28, 28, 1) (28, 28, 1) (60000, 28, 28, 1)\n"
          ]
        }
      ]
    },
    {
      "cell_type": "markdown",
      "source": [
        "Data Augmentation Using ImageDataGenerator"
      ],
      "metadata": {
        "id": "W38yUJlhXA4f"
      }
    },
    {
      "cell_type": "code",
      "source": [
        "datagen = ImageDataGenerator(\n",
        "    rotation_range=10,  # rotate the image up to 10 degrees\n",
        "    width_shift_range=0.1,  # shift the image horizontally up to 10% of the width\n",
        "    height_shift_range=0.1,  # shift the image vertically up to 10% of the height\n",
        "    shear_range=0.2,  # shear the image up to 20%\n",
        "    zoom_range=0.2,  # zoom the image up to 20%\n",
        "    fill_mode='nearest'  # fill any empty pixels with the nearest pixel value\n",
        ")"
      ],
      "metadata": {
        "id": "wUIQljdEBi8H"
      },
      "execution_count": null,
      "outputs": []
    },
    {
      "cell_type": "code",
      "source": [
        "#Define the model architecture\n",
        "model = Sequential()\n",
        "\n",
        "#Add layers\n",
        "model.add(Conv2D(32, (3,3), activation='relu', input_shape=(28,28,1))) # Add Convolution layer\n",
        "model.add(MaxPooling2D((2,2))) # Add MaxPooling layer\n",
        "model.add(Flatten()) #Add Flatten layer\n",
        "model.add(Dense(units = 128 , activation = 'relu')) #fully connected hidden layer , units = 128\n",
        "model.add(Dense(units = 64 , activation = 'relu')) #fully connected hidden layer , units = 64\n",
        "model.add(Dense(units = 32 , activation = 'relu')) #fully connected hidden layer , units = 32\n",
        "model.add(Dense(units = 10 , activation = 'softmax')) #fully connected output layer , units = 10\n",
        "\n",
        "#Compile the model\n",
        "model.compile(optimizer = 'adam' , loss = 'categorical_crossentropy' , metrics = ['acc'])"
      ],
      "metadata": {
        "id": "OVkGSSeDIgVU"
      },
      "execution_count": null,
      "outputs": []
    },
    {
      "cell_type": "code",
      "source": [
        "# Generate augmented images on the fly during training\n",
        "datagen.fit(x_train)\n",
        "train_generator = datagen.flow(x_train, y_train, batch_size=32)"
      ],
      "metadata": {
        "id": "8JdmhOOaH9UK"
      },
      "execution_count": null,
      "outputs": []
    },
    {
      "cell_type": "code",
      "source": [
        "#plotting first 9 images and label\n",
        "print(\"First 9 Samples:\")\n",
        "plt.figure(figsize = (7,7))\n",
        "for i in range(9):\n",
        "  plt.subplot(3,3,i+1)\n",
        "  plt.imshow(train_generator[i][0][0] , cmap = 'gray') # show the image\n",
        "  plt.title(\"label = \" + str(np.argmax(train_generator[i][1][0]))) # label of the image as image title\n",
        "  plt.axis('off')\n",
        "\n",
        "plt.show()"
      ],
      "metadata": {
        "colab": {
          "base_uri": "https://localhost:8080/",
          "height": 444
        },
        "id": "O-VOdkTqmDQq",
        "outputId": "38ec6479-a204-440e-e013-7d2ef8858105"
      },
      "execution_count": null,
      "outputs": [
        {
          "output_type": "stream",
          "name": "stdout",
          "text": [
            "First 9 Samples:\n"
          ]
        },
        {
          "output_type": "display_data",
          "data": {
            "text/plain": [
              "<Figure size 504x504 with 9 Axes>"
            ],
            "image/png": "[encoded data removed]"
          },
          "metadata": {
            "needs_background": "light"
          }
        }
      ]
    },
    {
      "cell_type": "code",
      "source": [
        "# Train the model using the augmented images\n",
        "model.fit(train_generator,\n",
        "          steps_per_epoch=len(x_train) // 32,\n",
        "          epochs=10)"
      ],
      "metadata": {
        "id": "TQqB4SMvnyrG"
      },
      "execution_count": null,
      "outputs": []
    },
    {
      "cell_type": "code",
      "source": [
        "#Test the Augmented model without augmentation of test data\n",
        "history = model.evaluate(x_test , y_test , verbose = 0)\n",
        "acc = history[1] * 100;\n",
        "\n",
        "print(\"Accuracy of augmented model: %.2f\" % acc,\"%\")"
      ],
      "metadata": {
        "colab": {
          "base_uri": "https://localhost:8080/"
        },
        "id": "w_TXGn8P8zgC",
        "outputId": "92ceeece-c058-492c-ae3d-f7e06a03f160"
      },
      "execution_count": null,
      "outputs": [
        {
          "output_type": "stream",
          "name": "stdout",
          "text": [
            "Accuracy of augmented model without test data Augmentation: 98.80 %\n"
          ]
        }
      ]
    }
  ]
}